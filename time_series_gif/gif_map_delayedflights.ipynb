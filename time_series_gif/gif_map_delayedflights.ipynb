{
 "cells": [
  {
   "cell_type": "markdown",
   "id": "fb7f468f",
   "metadata": {},
   "source": [
    "The following will take you step-by-step of how to create a map in gif form. What's being depicted here is every domestic flight flying into Boston for the month of October in 2022. The red lines are flights arriving more than 30 min late while the cyan are the lucky ones who managed to make it on time. "
   ]
  },
  {
   "cell_type": "code",
   "execution_count": 14,
   "id": "fb4bb08f",
   "metadata": {},
   "outputs": [
    {
     "data": {
      "image/png": "[encoded data removed]",
      "text/plain": [
       "<PIL.GifImagePlugin.GifImageFile image mode=P size=600x400>"
      ]
     },
     "execution_count": 14,
     "metadata": {},
     "output_type": "execute_result"
    }
   ],
   "source": [
    "gif_output = Image.open('delayedflights.gif')\n",
    "gif_output"
   ]
  },
  {
   "cell_type": "code",
   "execution_count": 1,
   "id": "6fa814f3",
   "metadata": {},
   "outputs": [
    {
     "name": "stderr",
     "output_type": "stream",
     "text": [
      "C:\\Users\\Cullen\\anaconda3\\envs\\geo_env\\lib\\site-packages\\geopandas\\_compat.py:111: UserWarning: The Shapely GEOS version (3.10.2-CAPI-1.16.0) is incompatible with the GEOS version PyGEOS was compiled with (3.10.4-CAPI-1.16.2). Conversions between both will be slow.\n",
      "  warnings.warn(\n"
     ]
    }
   ],
   "source": [
    "import pandas as pd\n",
    "import geopandas as gpd\n",
    "\n",
    "import zipfile\n",
    "\n",
    "import os\n",
    "import glob\n",
    "import gc\n",
    "\n",
    "from shapely import wkt\n",
    "import cartopy.crs as ccrs\n",
    "import matplotlib.pyplot as plt\n",
    "\n",
    "import warnings\n",
    "warnings.filterwarnings('ignore')\n"
   ]
  },
  {
   "cell_type": "markdown",
   "id": "4a7d599a",
   "metadata": {},
   "source": [
    "**Read in your data files**\n",
    "- airport info curtesy of DoT: https://www.transtats.bts.gov/ontime/"
   ]
  },
  {
   "cell_type": "code",
   "execution_count": 2,
   "id": "c6828112",
   "metadata": {},
   "outputs": [],
   "source": [
    "fileloc_airports = 'data/T_MASTER_CORD_20230227_103143.zip'\n",
    "airports = pd.read_csv(fileloc_airports, compression='zip')\n",
    "\n",
    "# generic admin boundary files\n",
    "fileloc_outline = 'data/lower48.shp'\n",
    "lower48 = gpd.read_file(fileloc_outline)\n",
    "\n",
    "fileloc_states = 'data/states.shp'\n",
    "states = gpd.read_file(fileloc_states)"
   ]
  },
  {
   "cell_type": "markdown",
   "id": "47bd3cbf",
   "metadata": {},
   "source": [
    "- Also from DoT, these csvs were downloaded in multiple installments, one for each domestic carrier that flies into Logan"
   ]
  },
  {
   "cell_type": "code",
   "execution_count": 3,
   "id": "eb4fba08",
   "metadata": {},
   "outputs": [],
   "source": [
    "DOWNLOADPATH = 'e:/downloads'\n",
    "files = glob.glob(os.path.join(DOWNLOADPATH,'Detailed_Statistics*'))\n",
    "\n",
    "# Create a list to store each incoming dataframe\n",
    "dfs = list()\n",
    "for f in files:\n",
    "#     they aere all named in a similar format \"Detailed_Statistics(number).csv\"\n",
    "#     the csvs had a header so skip those rows when importing\n",
    "#     add a dfin column and populate that with the download number between parenthesis, will be used as a key later on\n",
    "    dfin = pd.read_csv(f, skiprows=7)\n",
    "    if '(' in f:\n",
    "        dfin['dlnum'] = int(f[-6])\n",
    "    else:\n",
    "#         the initial download doesn't have the (number) so we catch it here\n",
    "        dfin['dlnum'] = 0\n",
    "    dfs.append(dfin)\n",
    "\n",
    "# turn the list of dataframes into a single dataframe one on top of the other using concatenate\n",
    "flights = pd.concat(dfs, ignore_index=True)\n",
    "\n",
    "# remove any rows with no data / NaN values\n",
    "flights.dropna(inplace=True)"
   ]
  },
  {
   "cell_type": "markdown",
   "id": "c5f4447a",
   "metadata": {},
   "source": [
    "**Manipulate the dataframes so that you have everything in one tidy spot**\n"
   ]
  },
  {
   "cell_type": "code",
   "execution_count": 4,
   "id": "9aa23e70",
   "metadata": {},
   "outputs": [],
   "source": [
    "# here's where we use the download order key from earlier. since each download was associated\n",
    "# with a single carrier we use that key ('codes') to join the carrier name\n",
    "codes = [0,1,2,3,4,5,6,7,8,9]\n",
    "cars = ['american','southwest','alaska','allegiant','delta','frontier','hawaiian','jet blue','spirit','united']\n",
    "\n",
    "airlinecodes = pd.DataFrame(zip(codes,cars)\n",
    "                            ,columns=['code','airline'])"
   ]
  },
  {
   "cell_type": "code",
   "execution_count": 5,
   "id": "0cb435dd",
   "metadata": {},
   "outputs": [],
   "source": [
    "# join the flight dataframe with the airline codes/carrier name using a left join to retain all the flights\n",
    "# while only joining the pertinent carrier. \n",
    "flights = flights.merge(\n",
    "                        airlinecodes[['code','airline']], \n",
    "                        left_on='dlnum', \n",
    "                        right_on='code', \n",
    "                        how='left'\n",
    "                        ).drop('code',1)"
   ]
  },
  {
   "cell_type": "code",
   "execution_count": 6,
   "id": "7cebfe19",
   "metadata": {},
   "outputs": [],
   "source": [
    "# grab the coordinates for the origin airports for each flight. drop the pivot field so there isn't a duplicate\n",
    "flights = flights.merge(\n",
    "                        airports[['AIRPORT','LATITUDE','LONGITUDE']],\n",
    "                        left_on='Origin Airport',\n",
    "                        right_on='AIRPORT',\n",
    "                        how='left'\n",
    "                        ).drop('AIRPORT',1)\n"
   ]
  },
  {
   "cell_type": "code",
   "execution_count": 7,
   "id": "5a2b5298",
   "metadata": {},
   "outputs": [],
   "source": [
    "# rename the columns\n",
    "old = ['LATITUDE','LONGITUDE']\n",
    "new = ['origin_lat','origin_lon']\n",
    "\n",
    "# you can rename with a dictionary so use zip again here \n",
    "flights.rename(columns=dict(zip(old,new)), inplace=True)"
   ]
  },
  {
   "cell_type": "code",
   "execution_count": 8,
   "id": "9e302f36",
   "metadata": {},
   "outputs": [],
   "source": [
    "flights['dst_lat'] = airports[airports['AIRPORT']=='BOS'].iloc[0]['LATITUDE']\n",
    "flights['dst_lon'] = airports[airports['AIRPORT']=='BOS'].iloc[0]['LONGITUDE']"
   ]
  },
  {
   "cell_type": "code",
   "execution_count": 9,
   "id": "e0e65335",
   "metadata": {},
   "outputs": [],
   "source": [
    "# in order to use multiple columns as entities to create input for our paths column utilize apply a lambda function\n",
    "# it'll \"apply\" the function to each row\n",
    "# the f-string here will create the wkt string we'll use as our geometery\n",
    "flights['paths'] = flights.apply(lambda r: f'LINESTRING({r.origin_lon} {r.origin_lat},{r.dst_lon} {r.dst_lat})', 1)"
   ]
  },
  {
   "cell_type": "code",
   "execution_count": 10,
   "id": "6a128ddc",
   "metadata": {},
   "outputs": [],
   "source": [
    "flights['arrivaldate'] = pd.to_datetime(flights['Date (MM/DD/YYYY)'])\n",
    "flights['arrivalhour'] = flights.apply(lambda h:int(h['Actual Arrival Time'].split(':')[0]), axis=1)\n"
   ]
  },
  {
   "cell_type": "code",
   "execution_count": 11,
   "id": "f418d99c",
   "metadata": {},
   "outputs": [],
   "source": [
    "# turn the dataframe into a geodataframe using the f-string from earlier as the wkt geometry\n",
    "flightpaths = gpd.GeoDataFrame(flights, geometry=gpd.GeoSeries.from_wkt(flights['paths']))"
   ]
  },
  {
   "cell_type": "markdown",
   "id": "79bd7ec5",
   "metadata": {},
   "source": [
    "**Create the individual maps (frames)**"
   ]
  },
  {
   "cell_type": "code",
   "execution_count": 12,
   "id": "96757403",
   "metadata": {
    "collapsed": true
   },
   "outputs": [
    {
     "name": "stdout",
     "output_type": "stream",
     "text": [
      "finished: Morning Saturday, Oct 1)\n",
      "finished: Afternoon Saturday, Oct 1)\n",
      "finished: Morning Sunday, Oct 2)\n",
      "finished: Afternoon Sunday, Oct 2)\n",
      "finished: Morning Monday, Oct 3)\n",
      "finished: Afternoon Monday, Oct 3)\n",
      "finished: Morning Tuesday, Oct 4)\n",
      "finished: Afternoon Tuesday, Oct 4)\n",
      "finished: Morning Wednesday, Oct 5)\n",
      "finished: Afternoon Wednesday, Oct 5)\n",
      "finished: Morning Thursday, Oct 6)\n",
      "finished: Afternoon Thursday, Oct 6)\n"
     ]
    },
    {
     "ename": "KeyboardInterrupt",
     "evalue": "",
     "output_type": "error",
     "traceback": [
      "\u001b[1;31m---------------------------------------------------------------------------\u001b[0m",
      "\u001b[1;31mKeyboardInterrupt\u001b[0m                         Traceback (most recent call last)",
      "Input \u001b[1;32mIn [12]\u001b[0m, in \u001b[0;36m<cell line: 9>\u001b[1;34m()\u001b[0m\n\u001b[0;32m     27\u001b[0m     \u001b[38;5;28mmap\u001b[39m \u001b[38;5;241m=\u001b[39m lower48\u001b[38;5;241m.\u001b[39mto_crs(thecrs)\u001b[38;5;241m.\u001b[39mplot(ax\u001b[38;5;241m=\u001b[39max, color\u001b[38;5;241m=\u001b[39m\u001b[38;5;124m'\u001b[39m\u001b[38;5;124mnone\u001b[39m\u001b[38;5;124m'\u001b[39m, edgecolor\u001b[38;5;241m=\u001b[39m\u001b[38;5;124m'\u001b[39m\u001b[38;5;124mwhite\u001b[39m\u001b[38;5;124m'\u001b[39m, linewidth\u001b[38;5;241m=\u001b[39m\u001b[38;5;241m0.4\u001b[39m)\n\u001b[0;32m     28\u001b[0m     \u001b[38;5;28mmap\u001b[39m \u001b[38;5;241m=\u001b[39m states[\u001b[38;5;241m~\u001b[39mstates\u001b[38;5;241m.\u001b[39mNAME\u001b[38;5;241m.\u001b[39misin([\u001b[38;5;124m'\u001b[39m\u001b[38;5;124mAlaska\u001b[39m\u001b[38;5;124m'\u001b[39m,\u001b[38;5;124m'\u001b[39m\u001b[38;5;124mHawaii\u001b[39m\u001b[38;5;124m'\u001b[39m])]\u001b[38;5;241m.\u001b[39mto_crs(thecrs)\u001b[38;5;241m.\u001b[39mplot(ax\u001b[38;5;241m=\u001b[39max, color\u001b[38;5;241m=\u001b[39m\u001b[38;5;124m'\u001b[39m\u001b[38;5;124mnone\u001b[39m\u001b[38;5;124m'\u001b[39m, edgecolor\u001b[38;5;241m=\u001b[39m\u001b[38;5;124m'\u001b[39m\u001b[38;5;124mwhite\u001b[39m\u001b[38;5;124m'\u001b[39m, alpha\u001b[38;5;241m=\u001b[39m\u001b[38;5;241m0.1\u001b[39m)\n\u001b[1;32m---> 29\u001b[0m     \u001b[38;5;28mmap\u001b[39m \u001b[38;5;241m=\u001b[39m \u001b[43mfilteredflights\u001b[49m\u001b[43m[\u001b[49m\u001b[43m(\u001b[49m\u001b[43mflightpaths\u001b[49m\u001b[43m[\u001b[49m\u001b[38;5;124;43m'\u001b[39;49m\u001b[38;5;124;43mArrival Delay (Minutes)\u001b[39;49m\u001b[38;5;124;43m'\u001b[39;49m\u001b[43m]\u001b[49m\u001b[38;5;241;43m<\u001b[39;49m\u001b[38;5;241;43m=\u001b[39;49m\u001b[38;5;241;43m30\u001b[39;49m\u001b[43m)\u001b[49m\u001b[43m]\u001b[49m\u001b[38;5;241;43m.\u001b[39;49m\u001b[43mplot\u001b[49m\u001b[43m(\u001b[49m\u001b[43max\u001b[49m\u001b[38;5;241;43m=\u001b[39;49m\u001b[43max\u001b[49m\u001b[43m,\u001b[49m\u001b[43m \u001b[49m\u001b[43mtransform\u001b[49m\u001b[38;5;241;43m=\u001b[39;49m\u001b[43mccrs\u001b[49m\u001b[38;5;241;43m.\u001b[39;49m\u001b[43mGeodetic\u001b[49m\u001b[43m(\u001b[49m\u001b[43m)\u001b[49m\u001b[43m,\u001b[49m\u001b[43m \u001b[49m\u001b[43mcolor\u001b[49m\u001b[38;5;241;43m=\u001b[39;49m\u001b[38;5;124;43m'\u001b[39;49m\u001b[38;5;124;43mcyan\u001b[39;49m\u001b[38;5;124;43m'\u001b[39;49m\u001b[43m,\u001b[49m\u001b[43m \u001b[49m\u001b[43mlinewidth\u001b[49m\u001b[38;5;241;43m=\u001b[39;49m\u001b[38;5;241;43m0.4\u001b[39;49m\u001b[43m,\u001b[49m\u001b[43m \u001b[49m\u001b[43malpha\u001b[49m\u001b[38;5;241;43m=\u001b[39;49m\u001b[38;5;241;43m0.3\u001b[39;49m\u001b[43m,\u001b[49m\u001b[43m \u001b[49m\u001b[43mzorder\u001b[49m\u001b[38;5;241;43m=\u001b[39;49m\u001b[38;5;241;43m5\u001b[39;49m\u001b[43m)\u001b[49m\n\u001b[0;32m     30\u001b[0m     \u001b[38;5;28mmap\u001b[39m \u001b[38;5;241m=\u001b[39m filteredflights[(flightpaths[\u001b[38;5;124m'\u001b[39m\u001b[38;5;124mArrival Delay (Minutes)\u001b[39m\u001b[38;5;124m'\u001b[39m]\u001b[38;5;241m>\u001b[39m \u001b[38;5;241m30\u001b[39m)]\u001b[38;5;241m.\u001b[39mplot(ax\u001b[38;5;241m=\u001b[39max, transform\u001b[38;5;241m=\u001b[39mccrs\u001b[38;5;241m.\u001b[39mGeodetic(), color\u001b[38;5;241m=\u001b[39m\u001b[38;5;124m'\u001b[39m\u001b[38;5;124mred\u001b[39m\u001b[38;5;124m'\u001b[39m, linewidth\u001b[38;5;241m=\u001b[39m\u001b[38;5;241m0.4\u001b[39m, alpha\u001b[38;5;241m=\u001b[39m\u001b[38;5;241m.7\u001b[39m, zorder\u001b[38;5;241m=\u001b[39m\u001b[38;5;241m5000\u001b[39m)\n\u001b[0;32m     33\u001b[0m \u001b[38;5;66;03m#     plt.setp(ax.spines.values(), color='black')\u001b[39;00m\n\u001b[0;32m     34\u001b[0m \u001b[38;5;66;03m#     plt.setp([ax.get_xticklines(), ax.get_yticklines()], color='black')\u001b[39;00m\n",
      "File \u001b[1;32m~\\anaconda3\\envs\\geo_env\\lib\\site-packages\\geopandas\\plotting.py:950\u001b[0m, in \u001b[0;36mGeoplotAccessor.__call__\u001b[1;34m(self, *args, **kwargs)\u001b[0m\n\u001b[0;32m    948\u001b[0m kind \u001b[38;5;241m=\u001b[39m kwargs\u001b[38;5;241m.\u001b[39mpop(\u001b[38;5;124m\"\u001b[39m\u001b[38;5;124mkind\u001b[39m\u001b[38;5;124m\"\u001b[39m, \u001b[38;5;124m\"\u001b[39m\u001b[38;5;124mgeo\u001b[39m\u001b[38;5;124m\"\u001b[39m)\n\u001b[0;32m    949\u001b[0m \u001b[38;5;28;01mif\u001b[39;00m kind \u001b[38;5;241m==\u001b[39m \u001b[38;5;124m\"\u001b[39m\u001b[38;5;124mgeo\u001b[39m\u001b[38;5;124m\"\u001b[39m:\n\u001b[1;32m--> 950\u001b[0m     \u001b[38;5;28;01mreturn\u001b[39;00m plot_dataframe(data, \u001b[38;5;241m*\u001b[39margs, \u001b[38;5;241m*\u001b[39m\u001b[38;5;241m*\u001b[39mkwargs)\n\u001b[0;32m    951\u001b[0m \u001b[38;5;28;01mif\u001b[39;00m kind \u001b[38;5;129;01min\u001b[39;00m \u001b[38;5;28mself\u001b[39m\u001b[38;5;241m.\u001b[39m_pandas_kinds:\n\u001b[0;32m    952\u001b[0m     \u001b[38;5;66;03m# Access pandas plots\u001b[39;00m\n\u001b[0;32m    953\u001b[0m     \u001b[38;5;28;01mreturn\u001b[39;00m PlotAccessor(data)(kind\u001b[38;5;241m=\u001b[39mkind, \u001b[38;5;241m*\u001b[39m\u001b[38;5;241m*\u001b[39mkwargs)\n",
      "File \u001b[1;32m~\\anaconda3\\envs\\geo_env\\lib\\site-packages\\geopandas\\plotting.py:692\u001b[0m, in \u001b[0;36mplot_dataframe\u001b[1;34m(df, column, cmap, color, ax, cax, categorical, legend, scheme, k, vmin, vmax, markersize, figsize, legend_kwds, categories, classification_kwds, missing_kwds, aspect, **style_kwds)\u001b[0m\n\u001b[0;32m    689\u001b[0m     markersize \u001b[38;5;241m=\u001b[39m df[markersize]\u001b[38;5;241m.\u001b[39mvalues\n\u001b[0;32m    691\u001b[0m \u001b[38;5;28;01mif\u001b[39;00m column \u001b[38;5;129;01mis\u001b[39;00m \u001b[38;5;28;01mNone\u001b[39;00m:\n\u001b[1;32m--> 692\u001b[0m     \u001b[38;5;28;01mreturn\u001b[39;00m plot_series(\n\u001b[0;32m    693\u001b[0m         df\u001b[38;5;241m.\u001b[39mgeometry,\n\u001b[0;32m    694\u001b[0m         cmap\u001b[38;5;241m=\u001b[39mcmap,\n\u001b[0;32m    695\u001b[0m         color\u001b[38;5;241m=\u001b[39mcolor,\n\u001b[0;32m    696\u001b[0m         ax\u001b[38;5;241m=\u001b[39max,\n\u001b[0;32m    697\u001b[0m         figsize\u001b[38;5;241m=\u001b[39mfigsize,\n\u001b[0;32m    698\u001b[0m         markersize\u001b[38;5;241m=\u001b[39mmarkersize,\n\u001b[0;32m    699\u001b[0m         aspect\u001b[38;5;241m=\u001b[39maspect,\n\u001b[0;32m    700\u001b[0m         \u001b[38;5;241m*\u001b[39m\u001b[38;5;241m*\u001b[39mstyle_kwds,\n\u001b[0;32m    701\u001b[0m     )\n\u001b[0;32m    703\u001b[0m \u001b[38;5;66;03m# To accept pd.Series and np.arrays as column\u001b[39;00m\n\u001b[0;32m    704\u001b[0m \u001b[38;5;28;01mif\u001b[39;00m \u001b[38;5;28misinstance\u001b[39m(column, (np\u001b[38;5;241m.\u001b[39mndarray, pd\u001b[38;5;241m.\u001b[39mSeries)):\n",
      "File \u001b[1;32m~\\anaconda3\\envs\\geo_env\\lib\\site-packages\\geopandas\\plotting.py:458\u001b[0m, in \u001b[0;36mplot_series\u001b[1;34m(s, cmap, color, ax, figsize, aspect, **style_kwds)\u001b[0m\n\u001b[0;32m    456\u001b[0m \u001b[38;5;28;01mif\u001b[39;00m \u001b[38;5;129;01mnot\u001b[39;00m lines\u001b[38;5;241m.\u001b[39mempty:\n\u001b[0;32m    457\u001b[0m     values_ \u001b[38;5;241m=\u001b[39m values[line_idx] \u001b[38;5;28;01mif\u001b[39;00m cmap \u001b[38;5;28;01melse\u001b[39;00m \u001b[38;5;28;01mNone\u001b[39;00m\n\u001b[1;32m--> 458\u001b[0m     _plot_linestring_collection(\n\u001b[0;32m    459\u001b[0m         ax, lines, values_, color\u001b[38;5;241m=\u001b[39mcolor, cmap\u001b[38;5;241m=\u001b[39mcmap, \u001b[38;5;241m*\u001b[39m\u001b[38;5;241m*\u001b[39mstyle_kwds\n\u001b[0;32m    460\u001b[0m     )\n\u001b[0;32m    462\u001b[0m \u001b[38;5;66;03m# plot all Points in the same collection\u001b[39;00m\n\u001b[0;32m    463\u001b[0m points \u001b[38;5;241m=\u001b[39m expl_series[point_idx]\n",
      "File \u001b[1;32m~\\anaconda3\\envs\\geo_env\\lib\\site-packages\\geopandas\\plotting.py:233\u001b[0m, in \u001b[0;36m_plot_linestring_collection\u001b[1;34m(ax, geoms, values, color, cmap, vmin, vmax, **kwargs)\u001b[0m\n\u001b[0;32m    229\u001b[0m     kwargs[\u001b[38;5;124m\"\u001b[39m\u001b[38;5;124mcolor\u001b[39m\u001b[38;5;124m\"\u001b[39m] \u001b[38;5;241m=\u001b[39m color\n\u001b[0;32m    231\u001b[0m _expand_kwargs(kwargs, multiindex)\n\u001b[1;32m--> 233\u001b[0m segments \u001b[38;5;241m=\u001b[39m [np\u001b[38;5;241m.\u001b[39marray(linestring\u001b[38;5;241m.\u001b[39mcoords)[:, :\u001b[38;5;241m2\u001b[39m] \u001b[38;5;28;01mfor\u001b[39;00m linestring \u001b[38;5;129;01min\u001b[39;00m geoms]\n\u001b[0;32m    234\u001b[0m collection \u001b[38;5;241m=\u001b[39m LineCollection(segments, \u001b[38;5;241m*\u001b[39m\u001b[38;5;241m*\u001b[39mkwargs)\n\u001b[0;32m    236\u001b[0m \u001b[38;5;28;01mif\u001b[39;00m values \u001b[38;5;129;01mis\u001b[39;00m \u001b[38;5;129;01mnot\u001b[39;00m \u001b[38;5;28;01mNone\u001b[39;00m:\n",
      "File \u001b[1;32m~\\anaconda3\\envs\\geo_env\\lib\\site-packages\\geopandas\\plotting.py:233\u001b[0m, in \u001b[0;36m<listcomp>\u001b[1;34m(.0)\u001b[0m\n\u001b[0;32m    229\u001b[0m     kwargs[\u001b[38;5;124m\"\u001b[39m\u001b[38;5;124mcolor\u001b[39m\u001b[38;5;124m\"\u001b[39m] \u001b[38;5;241m=\u001b[39m color\n\u001b[0;32m    231\u001b[0m _expand_kwargs(kwargs, multiindex)\n\u001b[1;32m--> 233\u001b[0m segments \u001b[38;5;241m=\u001b[39m [np\u001b[38;5;241m.\u001b[39marray(linestring\u001b[38;5;241m.\u001b[39mcoords)[:, :\u001b[38;5;241m2\u001b[39m] \u001b[38;5;28;01mfor\u001b[39;00m linestring \u001b[38;5;129;01min\u001b[39;00m geoms]\n\u001b[0;32m    234\u001b[0m collection \u001b[38;5;241m=\u001b[39m LineCollection(segments, \u001b[38;5;241m*\u001b[39m\u001b[38;5;241m*\u001b[39mkwargs)\n\u001b[0;32m    236\u001b[0m \u001b[38;5;28;01mif\u001b[39;00m values \u001b[38;5;129;01mis\u001b[39;00m \u001b[38;5;129;01mnot\u001b[39;00m \u001b[38;5;28;01mNone\u001b[39;00m:\n",
      "File \u001b[1;32m~\\anaconda3\\envs\\geo_env\\lib\\site-packages\\pandas\\core\\arrays\\base.py:417\u001b[0m, in \u001b[0;36mExtensionArray.__iter__\u001b[1;34m(self)\u001b[0m\n\u001b[0;32m    413\u001b[0m \u001b[38;5;66;03m# This needs to be implemented so that pandas recognizes extension\u001b[39;00m\n\u001b[0;32m    414\u001b[0m \u001b[38;5;66;03m# arrays as list-like. The default implementation makes successive\u001b[39;00m\n\u001b[0;32m    415\u001b[0m \u001b[38;5;66;03m# calls to ``__getitem__``, which may be slower than necessary.\u001b[39;00m\n\u001b[0;32m    416\u001b[0m \u001b[38;5;28;01mfor\u001b[39;00m i \u001b[38;5;129;01min\u001b[39;00m \u001b[38;5;28mrange\u001b[39m(\u001b[38;5;28mlen\u001b[39m(\u001b[38;5;28mself\u001b[39m)):\n\u001b[1;32m--> 417\u001b[0m     \u001b[38;5;28;01myield\u001b[39;00m \u001b[38;5;28;43mself\u001b[39;49m\u001b[43m[\u001b[49m\u001b[43mi\u001b[49m\u001b[43m]\u001b[49m\n",
      "File \u001b[1;32m~\\anaconda3\\envs\\geo_env\\lib\\site-packages\\geopandas\\array.py:360\u001b[0m, in \u001b[0;36mGeometryArray.__getitem__\u001b[1;34m(self, idx)\u001b[0m\n\u001b[0;32m    358\u001b[0m \u001b[38;5;28;01mdef\u001b[39;00m \u001b[38;5;21m__getitem__\u001b[39m(\u001b[38;5;28mself\u001b[39m, idx):\n\u001b[0;32m    359\u001b[0m     \u001b[38;5;28;01mif\u001b[39;00m \u001b[38;5;28misinstance\u001b[39m(idx, numbers\u001b[38;5;241m.\u001b[39mIntegral):\n\u001b[1;32m--> 360\u001b[0m         \u001b[38;5;28;01mreturn\u001b[39;00m \u001b[43m_geom_to_shapely\u001b[49m\u001b[43m(\u001b[49m\u001b[38;5;28;43mself\u001b[39;49m\u001b[38;5;241;43m.\u001b[39;49m\u001b[43mdata\u001b[49m\u001b[43m[\u001b[49m\u001b[43midx\u001b[49m\u001b[43m]\u001b[49m\u001b[43m)\u001b[49m\n\u001b[0;32m    361\u001b[0m     \u001b[38;5;66;03m# array-like, slice\u001b[39;00m\n\u001b[0;32m    362\u001b[0m     \u001b[38;5;28;01mif\u001b[39;00m compat\u001b[38;5;241m.\u001b[39mPANDAS_GE_10:\n\u001b[0;32m    363\u001b[0m         \u001b[38;5;66;03m# for pandas >= 1.0, validate and convert IntegerArray/BooleanArray\u001b[39;00m\n\u001b[0;32m    364\u001b[0m         \u001b[38;5;66;03m# to numpy array, pass-through non-array-like indexers\u001b[39;00m\n",
      "File \u001b[1;32m~\\anaconda3\\envs\\geo_env\\lib\\site-packages\\geopandas\\array.py:115\u001b[0m, in \u001b[0;36m_geom_to_shapely\u001b[1;34m(geom)\u001b[0m\n\u001b[0;32m    113\u001b[0m     \u001b[38;5;28;01mreturn\u001b[39;00m geom\n\u001b[0;32m    114\u001b[0m \u001b[38;5;28;01melse\u001b[39;00m:\n\u001b[1;32m--> 115\u001b[0m     \u001b[38;5;28;01mreturn\u001b[39;00m \u001b[43mvectorized\u001b[49m\u001b[38;5;241;43m.\u001b[39;49m\u001b[43m_pygeos_to_shapely\u001b[49m\u001b[43m(\u001b[49m\u001b[43mgeom\u001b[49m\u001b[43m)\u001b[49m\n",
      "File \u001b[1;32m~\\anaconda3\\envs\\geo_env\\lib\\site-packages\\geopandas\\_vectorized.py:78\u001b[0m, in \u001b[0;36m_pygeos_to_shapely\u001b[1;34m(geom)\u001b[0m\n\u001b[0;32m     76\u001b[0m     \u001b[38;5;28;01mreturn\u001b[39;00m shapely\u001b[38;5;241m.\u001b[39mwkt\u001b[38;5;241m.\u001b[39mloads(\u001b[38;5;124m\"\u001b[39m\u001b[38;5;124mPOINT EMPTY\u001b[39m\u001b[38;5;124m\"\u001b[39m)\n\u001b[0;32m     77\u001b[0m \u001b[38;5;28;01melse\u001b[39;00m:\n\u001b[1;32m---> 78\u001b[0m     \u001b[38;5;28;01mreturn\u001b[39;00m \u001b[43mshapely\u001b[49m\u001b[38;5;241;43m.\u001b[39;49m\u001b[43mwkb\u001b[49m\u001b[38;5;241;43m.\u001b[39;49m\u001b[43mloads\u001b[49m\u001b[43m(\u001b[49m\u001b[43mpygeos\u001b[49m\u001b[38;5;241;43m.\u001b[39;49m\u001b[43mto_wkb\u001b[49m\u001b[43m(\u001b[49m\u001b[43mgeom\u001b[49m\u001b[43m)\u001b[49m\u001b[43m)\u001b[49m\n",
      "File \u001b[1;32m~\\anaconda3\\envs\\geo_env\\lib\\site-packages\\shapely\\wkb.py:23\u001b[0m, in \u001b[0;36mloads\u001b[1;34m(data, hex)\u001b[0m\n\u001b[0;32m     21\u001b[0m     \u001b[38;5;28;01mreturn\u001b[39;00m reader\u001b[38;5;241m.\u001b[39mread_hex(data)\n\u001b[0;32m     22\u001b[0m \u001b[38;5;28;01melse\u001b[39;00m:\n\u001b[1;32m---> 23\u001b[0m     \u001b[38;5;28;01mreturn\u001b[39;00m \u001b[43mreader\u001b[49m\u001b[38;5;241;43m.\u001b[39;49m\u001b[43mread\u001b[49m\u001b[43m(\u001b[49m\u001b[43mdata\u001b[49m\u001b[43m)\u001b[49m\n",
      "File \u001b[1;32m~\\anaconda3\\envs\\geo_env\\lib\\site-packages\\shapely\\geos.py:426\u001b[0m, in \u001b[0;36mWKBReader.read\u001b[1;34m(self, data)\u001b[0m\n\u001b[0;32m    424\u001b[0m \u001b[38;5;28;01mdef\u001b[39;00m \u001b[38;5;21mread\u001b[39m(\u001b[38;5;28mself\u001b[39m, data):\n\u001b[0;32m    425\u001b[0m     \u001b[38;5;124;03m\"\"\"Returns geometry from WKB\"\"\"\u001b[39;00m\n\u001b[1;32m--> 426\u001b[0m     geom \u001b[38;5;241m=\u001b[39m \u001b[38;5;28;43mself\u001b[39;49m\u001b[38;5;241;43m.\u001b[39;49m\u001b[43m_lgeos\u001b[49m\u001b[38;5;241;43m.\u001b[39;49m\u001b[43mGEOSWKBReader_read\u001b[49m\u001b[43m(\u001b[49m\n\u001b[0;32m    427\u001b[0m \u001b[43m        \u001b[49m\u001b[38;5;28;43mself\u001b[39;49m\u001b[38;5;241;43m.\u001b[39;49m\u001b[43m_reader\u001b[49m\u001b[43m,\u001b[49m\u001b[43m \u001b[49m\u001b[43mc_char_p\u001b[49m\u001b[43m(\u001b[49m\u001b[43mdata\u001b[49m\u001b[43m)\u001b[49m\u001b[43m,\u001b[49m\u001b[43m \u001b[49m\u001b[43mc_size_t\u001b[49m\u001b[43m(\u001b[49m\u001b[38;5;28;43mlen\u001b[39;49m\u001b[43m(\u001b[49m\u001b[43mdata\u001b[49m\u001b[43m)\u001b[49m\u001b[43m)\u001b[49m\u001b[43m)\u001b[49m\n\u001b[0;32m    428\u001b[0m     \u001b[38;5;28;01mif\u001b[39;00m \u001b[38;5;129;01mnot\u001b[39;00m geom:\n\u001b[0;32m    429\u001b[0m         \u001b[38;5;28;01mraise\u001b[39;00m WKBReadingError(\n\u001b[0;32m    430\u001b[0m             \u001b[38;5;124m\"\u001b[39m\u001b[38;5;124mCould not create geometry because of errors \u001b[39m\u001b[38;5;124m\"\u001b[39m\n\u001b[0;32m    431\u001b[0m             \u001b[38;5;124m\"\u001b[39m\u001b[38;5;124mwhile reading input.\u001b[39m\u001b[38;5;124m\"\u001b[39m)\n",
      "\u001b[1;31mKeyboardInterrupt\u001b[0m: "
     ]
    },
    {
     "data": {
      "image/png": "[encoded data removed]",
      "text/plain": [
       "<Figure size 432x288 with 1 Axes>"
      ]
     },
     "metadata": {},
     "output_type": "display_data"
    }
   ],
   "source": [
    "# storing the proj4 string to match up crs with the ccrs package\n",
    "albers = '+proj=aea +lat_0=0 +lon_0=0 +lat_1=20 +lat_2=50 +x_0=0 +y_0=0 +datum=NAD83 +units=m +no_defs +type=crs'\n",
    "inter = '+proj=igh +lon_0=0 +x_0=0 +y_0=0 +datum=WGS84 +units=m +no_defs +type=crs'\n",
    "\n",
    "thecrs=inter\n",
    "ctr=0\n",
    "\n",
    "# here's where we style they frames or each individual map\n",
    "for d in range(1,32):\n",
    "    ctr+=1\n",
    "    numdate = d\n",
    "#     take a pass at the AM time slot since we're using a range as the 'date'\n",
    "    fig = plt.figure(facecolor='black')\n",
    "    ax = plt.axes(projection=ccrs.InterruptedGoodeHomolosine())\n",
    "\n",
    "    # fig.set_size_inches(num,num)\n",
    "    ax.patch.set_facecolor('black')\n",
    "\n",
    "#     grab the bounding box to set up the frame dimensions and set the axes values\n",
    "    minx, miny, maxx, maxy = lower48.to_crs(thecrs).geometry.total_bounds\n",
    "    ax.set_xlim(minx - .1, maxx + .1) # added/substracted value is to give some margin around total bounds\n",
    "    ax.set_ylim(miny - .1, maxy + .1)\n",
    "    \n",
    "    filteredflights = flightpaths[(flightpaths.arrivaldate.dt.day==numdate)&(flightpaths.arrivalhour<12)]\n",
    "    \n",
    "#     develop the map layers\n",
    "    map = lower48.to_crs(thecrs).plot(ax=ax, color='none', edgecolor='white', linewidth=0.4)\n",
    "#     filtering out AK and HI for layout purposes\n",
    "    map = states[~states.NAME.isin(['Alaska','Hawaii'])].to_crs(thecrs).plot(ax=ax, color='none', edgecolor='white', alpha=0.1)\n",
    "    map = filteredflights[(flightpaths['Arrival Delay (Minutes)']<=30)].plot(ax=ax, transform=ccrs.Geodetic(), color='cyan', linewidth=0.4, alpha=0.3, zorder=5)\n",
    "    map = filteredflights[(flightpaths['Arrival Delay (Minutes)']> 30)].plot(ax=ax, transform=ccrs.Geodetic(), color='red', linewidth=0.4, alpha=.7, zorder=5000)\n",
    "\n",
    "\n",
    "#     plt.setp(ax.spines.values(), color='black')\n",
    "#     plt.setp([ax.get_xticklines(), ax.get_yticklines()], color='black')\n",
    "    ax.set_title(f'Morning\\n{filteredflights[filteredflights.arrivaldate.dt.day==numdate][\"arrivaldate\"].dt.day_name().iloc[0]}, Oct {numdate}', y=1, pad=-180, x=.2, color='white', fontsize=14, fontweight='bold')\n",
    "\n",
    "    basepath = 'need to fill this back in with the basepath to the project folder'\n",
    "    fileout=os.path.join(basepath+f'boston_oct2022_delay30min_{ctr}.png')\n",
    "    \n",
    "#     export those png files\n",
    "    mapfig = map.get_figure()\n",
    "    mapfig.savefig(fileout, dpi=100)\n",
    "    print(f'finished: Morning {filteredflights[filteredflights.arrivaldate.dt.day==numdate][\"arrivaldate\"].dt.day_name().iloc[0]}, Oct {numdate})')\n",
    "    plt.close('all')\n",
    "    mapfig.clf()\n",
    "#     plt.show(map)\n",
    "#     use a generator function rather than range and delete the pm section since it's just a duplicate\n",
    "#     pm\n",
    "    ctr+=1\n",
    "    fig = plt.figure(facecolor='black')\n",
    "    ax = plt.axes(projection=ccrs.InterruptedGoodeHomolosine())\n",
    "\n",
    "    # fig.set_size_inches(7, 3.5)\n",
    "    ax.patch.set_facecolor('black')\n",
    "\n",
    "    minx, miny, maxx, maxy = lower48.to_crs(thecrs).geometry.total_bounds\n",
    "#     print(minx)\n",
    "#     print(miny)\n",
    "#     print(maxx)\n",
    "#     print(maxy)\n",
    "    filteredflights = flightpaths[(flightpaths.arrivaldate.dt.day==numdate)&(flightpaths.arrivalhour>=12)]\n",
    "    ax.set_xlim(minx - .1, maxx + .1) # added/substracted value is to give some margin around total bounds\n",
    "    ax.set_ylim(miny - .1, maxy + .1)\n",
    "    map = lower48.to_crs(thecrs).plot(ax=ax, color='none', edgecolor='white', linewidth=0.4)\n",
    "    map = states[~states.NAME.isin(['Alaska','Hawaii'])].to_crs(thecrs).plot(ax=ax, color='none', edgecolor='white', alpha=0.1)\n",
    "    map = flightpaths[(flightpaths.arrivaldate.dt.day==numdate)&(flightpaths.arrivalhour>=12)&(flightpaths['Arrival Delay (Minutes)']<=30)].plot(ax=ax, transform=ccrs.Geodetic(), color='cyan', linewidth=0.4, alpha=0.3, zorder=5)\n",
    "    map = flightpaths[(flightpaths.arrivaldate.dt.day==numdate)&(flightpaths.arrivalhour>=12)&(flightpaths['Arrival Delay (Minutes)']> 30)].plot(ax=ax, transform=ccrs.Geodetic(), color='red', linewidth=0.4, alpha=.7, zorder=5000)\n",
    "\n",
    "    # map = filteredflights.plot(ax=ax, transform=ccrs.Geodetic(), color='red', linewidth=0.1, alpha=0.3)\n",
    "\n",
    "    plt.setp(ax.spines.values(), color='black')\n",
    "    plt.setp([ax.get_xticklines(), ax.get_yticklines()], color='black')\n",
    "    # ax.set_ylim(-7000000, 8800000)\n",
    "    ax.set_title(f'Afternoon\\n{filteredflights[filteredflights.arrivaldate.dt.day==numdate][\"arrivaldate\"].dt.day_name().iloc[0]}, Oct {numdate}', y=1, pad=-180, x=.2, color='white', fontsize=14, fontweight='bold')\n",
    "\n",
    "#     plt.show(map)\n",
    "    \n",
    "    basepath = ''\n",
    "    fileout=os.path.join(basepath+f'boston_oct2022_delay30min_{ctr}.png')\n",
    "    \n",
    "    mapfig = map.get_figure()\n",
    "    mapfig.savefig(fileout, dpi=100)\n",
    "    print(f'finished: Afternoon {filteredflights[filteredflights.arrivaldate.dt.day==numdate][\"arrivaldate\"].dt.day_name().iloc[0]}, Oct {numdate})')\n",
    "    plt.close('all')\n",
    "    mapfig.clf()\n",
    "#     gc.collect()"
   ]
  },
  {
   "cell_type": "markdown",
   "id": "9bf36e99",
   "metadata": {},
   "source": [
    "**Compile the frames into an actual animated gif**"
   ]
  },
  {
   "cell_type": "code",
   "execution_count": 13,
   "id": "7902fb80",
   "metadata": {},
   "outputs": [],
   "source": [
    "from PIL import Image\n",
    "\n",
    "# organize the frames into a list and open them up\n",
    "# be careful to properly set their order prior to appending to the list\n",
    "frames = []\n",
    "for i in range(1,63):\n",
    "    image_frame = Image.open(f'tiles/boston_oct2022_delay30min_{i}.png')\n",
    "    frames.append(image_frame)\n",
    "    \n",
    "# create the gif, duration is in ms\n",
    "frames[0].save(basepath + '../delayedflights.gif', format = 'GIF', append_images = frames, save_all = True, duration=500, loop = True)"
   ]
  }
 ],
 "metadata": {
  "kernelspec": {
   "display_name": "geo_env",
   "language": "python",
   "name": "geo_env"
  },
  "language_info": {
   "codemirror_mode": {
    "name": "ipython",
    "version": 3
   },
   "file_extension": ".py",
   "mimetype": "text/x-python",
   "name": "python",
   "nbconvert_exporter": "python",
   "pygments_lexer": "ipython3",
   "version": "3.10.4"
  }
 },
 "nbformat": 4,
 "nbformat_minor": 5
}
